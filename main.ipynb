{
  "nbformat": 4,
  "nbformat_minor": 0,
  "metadata": {
    "colab": {
      "name": "Untitled2.ipynb",
      "provenance": [],
      "collapsed_sections": []
    },
    "kernelspec": {
      "name": "python3",
      "display_name": "Python 3"
    },
    "accelerator": "GPU"
  },
  "cells": [
    {
      "cell_type": "markdown",
      "metadata": {
        "id": "4piSJ525vTuz",
        "colab_type": "text"
      },
      "source": [
        "zapraszam do zabawy\n",
        "\n",
        "3 EXP – Wstępna eksploracja <br>\n",
        "6 EXP – Preprocessing <br>\n",
        "3 EXP – Przygotowanie podstawowych modeli<br>\n",
        "6 EXP – Dopracowanie parametrów modeli, ustalenie optymalnych parametrów<br>\n",
        "2 EXP – Porównanie modeli i wybór najlepszego<br>\n",
        "6 EXP – Opracowanie warstwy wyjaśniającej (explainability)<br>"
      ]
    },
    {
      "cell_type": "code",
      "metadata": {
        "id": "JiQKlL8bgCZ1",
        "colab_type": "code",
        "colab": {
          "base_uri": "https://localhost:8080/",
          "height": 260
        },
        "outputId": "a5d741b0-dd56-43d5-cd2e-5e80db41b745"
      },
      "source": [
        "#PREPROCESSING AND INITIAL ANALYSIS\n",
        "\n",
        "import pandas as pd\n",
        "import numpy as np\n",
        "\n",
        "#import metadata\n",
        "md = pd.read_csv(\"https://raw.githubusercontent.com/suchy1713/EmotionPredicition/master/data/metadata/BIRAFFE-metadata.csv\", sep=';')\n",
        "\n",
        "#drop subjects without 'procedure' files available\n",
        "md = md[pd.notnull(md['PROCEDURE'])]\n",
        "\n",
        "#extract ids and convert to the np array\n",
        "ids = md['ID'].values\n",
        "\n",
        "#merge all 'procedure' files\n",
        "all_proc = []\n",
        "for my_id in ids:\n",
        "    df = pd.read_csv(\"https://raw.githubusercontent.com/suchy1713/EmotionPredicition/master/data/SUB\" + str(my_id) + \"-Procedure.csv\", sep=';', header=0)\n",
        "    all_proc.append(df)\n",
        "\n",
        "df = pd.concat(all_proc, axis=0, ignore_index=True)\n",
        "\n",
        "print(df)"
      ],
      "execution_count": 9,
      "outputs": [
        {
          "output_type": "stream",
          "text": [
            "          TIMESTAMP COND  ...                                          ANS  ANS-TIME\n",
            "0      1.555651e+09  con  ...    [-0.6613928222656247, 0.6419879150390628]  2.869846\n",
            "1      1.555651e+09  con  ...       [0.66760498046875, 0.6348742675781248]  1.885436\n",
            "2      1.555651e+09  con  ...                    [0.0, 0.9314099121093755]  2.569442\n",
            "3      1.555651e+09  con  ...                   [-0.9068261718750004, 0.0]  2.719698\n",
            "4      1.555651e+09  con  ...                                       [0, 0]       NaN\n",
            "...             ...  ...  ...                                          ...       ...\n",
            "22315  1.557747e+09  inc  ...    [-0.6332891845703139, 0.6404925537109373]  6.633668\n",
            "22316  1.557747e+09  inc  ...  [-0.9079309082031244, -0.01887207031249985]  8.650280\n",
            "22317  1.557747e+09  con  ...                   [0.0, -0.9209539794921872]  4.700254\n",
            "22318  1.557747e+09  inc  ...     [0.6428387451171877, 0.6074456787109375]  1.433533\n",
            "22319  1.557747e+09  con  ...                                       [0, 0]       NaN\n",
            "\n",
            "[22320 rows x 8 columns]\n"
          ],
          "name": "stdout"
        }
      ]
    }
  ]
}