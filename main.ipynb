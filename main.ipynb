{
  "nbformat": 4,
  "nbformat_minor": 0,
  "metadata": {
    "colab": {
      "name": "main.ipynb",
      "provenance": [],
      "collapsed_sections": [],
      "include_colab_link": true
    },
    "kernelspec": {
      "name": "python3",
      "display_name": "Python 3"
    },
    "accelerator": "GPU"
  },
  "cells": [
    {
      "cell_type": "markdown",
      "metadata": {
        "id": "view-in-github",
        "colab_type": "text"
      },
      "source": [
        "<a href=\"https://colab.research.google.com/github/suchy1713/EmotionPredicition/blob/master/main.ipynb\" target=\"_parent\"><img src=\"https://colab.research.google.com/assets/colab-badge.svg\" alt=\"Open In Colab\"/></a>"
      ]
    },
    {
      "cell_type": "code",
      "metadata": {
        "id": "xveZpsF8Y8Aw",
        "colab_type": "code",
        "colab": {}
      },
      "source": [
        "import pandas as pd\n",
        "import numpy as np\n",
        "from sklearn.model_selection import train_test_split\n",
        "\n",
        "df = pd.read_csv('https://raw.githubusercontent.com/suchy1713/EmotionPredicition/master/data/preprocessed/data.csv')\n",
        "data = df.values\n",
        "X = data[:, :11]\n",
        "y = data[:, 11:].argmax(axis=1)"
      ],
      "execution_count": 0,
      "outputs": []
    },
    {
      "cell_type": "markdown",
      "metadata": {
        "id": "UeEyxa5TM2ew",
        "colab_type": "text"
      },
      "source": [
        "We are going to evaluate our models using cross validation. We considered using just training and test sets but it turned out that the dataset is not too big and CV is not taking too long. We will also measure learning time as it might help us with final choice of the best model.\n",
        "\n",
        "For hyperparameter tuning we decided to go with grid search to automatize this process just a little bit."
      ]
    },
    {
      "cell_type": "code",
      "metadata": {
        "id": "VMT8XySUkSei",
        "colab_type": "code",
        "colab": {}
      },
      "source": [
        "from sklearn.neural_network import MLPClassifier\n",
        "from sklearn.model_selection import GridSearchCV, cross_val_score\n",
        "import time\n",
        "import seaborn as sns\n",
        "import matplotlib.pyplot as plt\n",
        "\n",
        "def get_performance(model, X, y):\n",
        "    start = time.time()\n",
        "    score = np.mean(cross_val_score(model, X, y, cv=5))\n",
        "    end = time.time()\n",
        "\n",
        "    return score, end-start\n",
        "\n",
        "def find_best_params(model, X, y, params):\n",
        "    grid = GridSearchCV(estimator=model, param_grid=params, verbose=10, n_jobs=-1)\n",
        "    grid.fit(X, y)\n",
        "\n",
        "    print('\\n\\nACCURACY: ', grid.best_score_)\n",
        "    print('BEST PARAMS:', grid.best_params_)\n",
        "\n",
        "def plot_model_comparison(accuracies, times, legend):\n",
        "    plt.figure(figsize=(8,6))\n",
        "    sns.scatterplot(x=accuracies, y=times, hue=legend, s=150)\n",
        "\n",
        "    plt.title('Model performance comparison')\n",
        "    plt.xlabel('Accuracy')\n",
        "    plt.ylabel('Time')"
      ],
      "execution_count": 0,
      "outputs": []
    },
    {
      "cell_type": "markdown",
      "metadata": {
        "id": "mrS3Yz46Ohjx",
        "colab_type": "text"
      },
      "source": [
        "For our first pass, we chose the widest range of models we could possibly think of:<br>\n",
        "-> Logistic Regression<br>\n",
        "-> Naive Bayes (probability based)<br>\n",
        "-> Support Vector Classifier (distance based)<br>\n",
        "-> Decision Tree<br>\n",
        "-> Random Forest (tree ensemble)<br>\n",
        "-> XG Boost (tree ensemble)<br>\n",
        "-> Neural Network<br>"
      ]
    },
    {
      "cell_type": "code",
      "metadata": {
        "id": "j2Xm_JHCVawo",
        "colab_type": "code",
        "colab": {}
      },
      "source": [
        "from sklearn.linear_model import LogisticRegression\n",
        "from sklearn.naive_bayes import GaussianNB\n",
        "from sklearn.svm import SVC\n",
        "from sklearn.tree import DecisionTreeClassifier\n",
        "from sklearn.ensemble import RandomForestClassifier\n",
        "import xgboost as xgb\n",
        "from sklearn.neural_network import MLPClassifier"
      ],
      "execution_count": 0,
      "outputs": []
    },
    {
      "cell_type": "markdown",
      "metadata": {
        "id": "VnqGMAgjVePY",
        "colab_type": "text"
      },
      "source": [
        "Let's compare their default versions. This step should let us eliminate the ones that definitely are not going to perform well on this type of data."
      ]
    },
    {
      "cell_type": "code",
      "metadata": {
        "id": "_ZpOrbR9C3qV",
        "colab_type": "code",
        "outputId": "c9906813-463d-4cfc-84bf-b6fd669159b3",
        "colab": {
          "base_uri": "https://localhost:8080/",
          "height": 526
        }
      },
      "source": [
        "legend = ['Logistic Regression', 'Naive Bayes', 'Support Vector Machine', 'Decision Tree', 'Random Forest', 'XG Boost', 'Neural Network']\n",
        "models = [LogisticRegression(), GaussianNB(), SVC(), DecisionTreeClassifier(), RandomForestClassifier(), xgb.XGBClassifier(), MLPClassifier(max_iter=1000)]\n",
        "times = []\n",
        "accuracies = []\n",
        "\n",
        "for model, name in zip(models, legend):\n",
        "    a, t = get_performance(model, X, y)\n",
        "    accuracies.append(a)\n",
        "    times.append(t)\n",
        "    print(name, ' - Accuracy: ', a, ' Time: ', t)\n",
        "\n",
        "plot_model_comparison(accuracies, times, legend)"
      ],
      "execution_count": 0,
      "outputs": [
        {
          "output_type": "stream",
          "text": [
            "Logistic Regression  - Accuracy:  0.3925627240143369  Time:  2.585238218307495\n",
            "Naive Bayes  - Accuracy:  0.3492831541218638  Time:  0.0481564998626709\n",
            "Support Vector Machine  - Accuracy:  0.39874551971326166  Time:  27.475837230682373\n",
            "Decision Tree  - Accuracy:  0.4198028673835125  Time:  0.08410239219665527\n",
            "Random Forest  - Accuracy:  0.42034050179211474  Time:  3.1563358306884766\n",
            "XG Boost  - Accuracy:  0.4141577060931899  Time:  7.393480539321899\n",
            "Neural Network  - Accuracy:  0.4145161290322581  Time:  67.76044654846191\n"
          ],
          "name": "stdout"
        },
        {
          "output_type": "display_data",
          "data": {
            "image/png": "[encoded data removed]",
            "text/plain": [
              "<Figure size 576x432 with 1 Axes>"
            ]
          },
          "metadata": {
            "tags": []
          }
        }
      ]
    },
    {
      "cell_type": "markdown",
      "metadata": {
        "id": "TFMl3_1rQl08",
        "colab_type": "text"
      },
      "source": [
        "We can see there are two clear outliers - Naive Bayes and Neural Network. We will rule them out at this point. Naive Bayes works better with text data and in our case it simply cannot compete in terms of accuracy. Neural network, on the other hand, shines when it comes to non-tabular data. Given the very long learning time, we would expect it to be much more accurate than other models but thst's not the case. We won't even waste our time trying to tune it.\n",
        "\n",
        "Now onto hyperparameter tuning:"
      ]
    },
    {
      "cell_type": "markdown",
      "metadata": {
        "id": "c4Qe-NMxU4q8",
        "colab_type": "text"
      },
      "source": [
        "Logistic Regression:<br>\n",
        "1. C - inverse of regularization strength (smaller values specify stronger regularization)"
      ]
    },
    {
      "cell_type": "code",
      "metadata": {
        "id": "L8YardrXRT8Y",
        "colab_type": "code",
        "outputId": "1407c0ab-e7c6-4717-b7ca-f780f59d39b6",
        "colab": {
          "base_uri": "https://localhost:8080/",
          "height": 243
        }
      },
      "source": [
        "brain = LogisticRegression()\n",
        "c = np.array([0.0001, 0.001, 0.01, 0.1, 1, 10, 100, 1000])\n",
        "params = dict(C = c)\n",
        "\n",
        "find_best_params(brain, X, y, params)"
      ],
      "execution_count": 0,
      "outputs": [
        {
          "output_type": "stream",
          "text": [
            "Fitting 5 folds for each of 8 candidates, totalling 40 fits\n"
          ],
          "name": "stdout"
        },
        {
          "output_type": "stream",
          "text": [
            "[Parallel(n_jobs=-1)]: Using backend LokyBackend with 2 concurrent workers.\n",
            "[Parallel(n_jobs=-1)]: Done   1 tasks      | elapsed:    0.1s\n",
            "[Parallel(n_jobs=-1)]: Batch computation too fast (0.1250s.) Setting batch_size=2.\n",
            "[Parallel(n_jobs=-1)]: Done   4 tasks      | elapsed:    0.3s\n",
            "[Parallel(n_jobs=-1)]: Done  14 tasks      | elapsed:    1.4s\n",
            "[Parallel(n_jobs=-1)]: Done  24 tasks      | elapsed:    4.0s\n",
            "[Parallel(n_jobs=-1)]: Batch computation too slow (2.0160s.) Setting batch_size=1.\n",
            "[Parallel(n_jobs=-1)]: Done  40 out of  40 | elapsed:    8.4s finished\n"
          ],
          "name": "stderr"
        },
        {
          "output_type": "stream",
          "text": [
            "\n",
            "\n",
            "ACCURACY:  0.392831541218638\n",
            "BEST PARAMS: {'C': 10.0}\n"
          ],
          "name": "stdout"
        }
      ]
    },
    {
      "cell_type": "markdown",
      "metadata": {
        "id": "EcxPeJBzWqk1",
        "colab_type": "text"
      },
      "source": [
        "Support Vector Classifier:\n",
        "1. kernel - type of hyperplane used to separate the data\n",
        "2. gamma - kernel coefficient; the higher the gamma the more exactly SVC is trying to fit to the training set\n",
        "3. C - inverse of the regularization strength\n"
      ]
    },
    {
      "cell_type": "code",
      "metadata": {
        "id": "NEBd_Ex4IvbZ",
        "colab_type": "code",
        "outputId": "09de6670-be9c-4fee-d51b-8e9cc28f4d17",
        "colab": {
          "base_uri": "https://localhost:8080/",
          "height": 434
        }
      },
      "source": [
        "brain = SVC()\n",
        "kernels = ['linear', 'rbf', 'poly']\n",
        "gammas = [0.001, 0.01, 0.1, 1]\n",
        "c = [0.1, 1, 10]\n",
        "\n",
        "params = dict(kernel=kernels, gamma=gammas, C=c)\n",
        "\n",
        "find_best_params(brain, X, y, params)"
      ],
      "execution_count": 0,
      "outputs": [
        {
          "output_type": "stream",
          "text": [
            "Fitting 5 folds for each of 36 candidates, totalling 180 fits\n"
          ],
          "name": "stdout"
        },
        {
          "output_type": "stream",
          "text": [
            "[Parallel(n_jobs=-1)]: Using backend LokyBackend with 2 concurrent workers.\n",
            "[Parallel(n_jobs=-1)]: Done   1 tasks      | elapsed:    4.1s\n",
            "[Parallel(n_jobs=-1)]: Done   4 tasks      | elapsed:    7.4s\n",
            "[Parallel(n_jobs=-1)]: Done   9 tasks      | elapsed:   26.7s\n",
            "[Parallel(n_jobs=-1)]: Done  14 tasks      | elapsed:   41.2s\n",
            "[Parallel(n_jobs=-1)]: Done  21 tasks      | elapsed:   56.1s\n",
            "[Parallel(n_jobs=-1)]: Done  28 tasks      | elapsed:  1.3min\n",
            "[Parallel(n_jobs=-1)]: Done  37 tasks      | elapsed:  1.7min\n",
            "[Parallel(n_jobs=-1)]: Done  46 tasks      | elapsed:  2.1min\n",
            "[Parallel(n_jobs=-1)]: Done  57 tasks      | elapsed:  2.7min\n",
            "[Parallel(n_jobs=-1)]: Done  68 tasks      | elapsed:  3.2min\n",
            "[Parallel(n_jobs=-1)]: Done  81 tasks      | elapsed:  3.8min\n",
            "[Parallel(n_jobs=-1)]: Done  94 tasks      | elapsed:  4.3min\n",
            "[Parallel(n_jobs=-1)]: Done 109 tasks      | elapsed:  5.0min\n",
            "[Parallel(n_jobs=-1)]: Done 124 tasks      | elapsed:  6.3min\n",
            "[Parallel(n_jobs=-1)]: Done 141 tasks      | elapsed:  7.2min\n",
            "[Parallel(n_jobs=-1)]: Done 158 tasks      | elapsed:  8.1min\n",
            "[Parallel(n_jobs=-1)]: Done 177 tasks      | elapsed: 12.0min\n",
            "[Parallel(n_jobs=-1)]: Done 180 out of 180 | elapsed: 16.0min finished\n"
          ],
          "name": "stderr"
        },
        {
          "output_type": "stream",
          "text": [
            "\n",
            "\n",
            "ACCURACY:  0.4218637992831541\n",
            "BEST PARAMS: {'C': 10, 'gamma': 1, 'kernel': 'rbf'}\n"
          ],
          "name": "stdout"
        }
      ]
    },
    {
      "cell_type": "markdown",
      "metadata": {
        "id": "dXsVTgh_l2UH",
        "colab_type": "text"
      },
      "source": [
        "Decision Tree:\n",
        "1. max_depth - maximum tree depth\n",
        "2. min_samples_split - the minimum number of samples required to split an internal node\n",
        "3. min_samples_leaf - minimum number of samples required to be at a leaf node"
      ]
    },
    {
      "cell_type": "code",
      "metadata": {
        "id": "IbVOYLtJljHU",
        "colab_type": "code",
        "outputId": "5e910d29-7913-4443-ce09-4ec218116d52",
        "colab": {
          "base_uri": "https://localhost:8080/",
          "height": 764
        }
      },
      "source": [
        "brain = DecisionTreeClassifier()\n",
        "max_depths = range(1, 33)\n",
        "min_samples_splits = range(1, 11)\n",
        "min_samples_leafs = range(1, 11)\n",
        "\n",
        "params = dict(max_depth=max_depths, min_samples_split=min_samples_splits, min_samples_leaf=min_samples_leafs)\n",
        "\n",
        "find_best_params(brain, X, y, params)"
      ],
      "execution_count": 0,
      "outputs": [
        {
          "output_type": "stream",
          "text": [
            "Fitting 5 folds for each of 3200 candidates, totalling 16000 fits\n"
          ],
          "name": "stdout"
        },
        {
          "output_type": "stream",
          "text": [
            "[Parallel(n_jobs=-1)]: Using backend LokyBackend with 2 concurrent workers.\n",
            "[Parallel(n_jobs=-1)]: Done   1 tasks      | elapsed:    0.7s\n",
            "[Parallel(n_jobs=-1)]: Done   4 tasks      | elapsed:    0.7s\n",
            "[Parallel(n_jobs=-1)]: Done   9 tasks      | elapsed:    0.7s\n",
            "[Parallel(n_jobs=-1)]: Batch computation too fast (0.1932s.) Setting batch_size=2.\n",
            "[Parallel(n_jobs=-1)]: Done  14 tasks      | elapsed:    0.8s\n",
            "[Parallel(n_jobs=-1)]: Batch computation too fast (0.0307s.) Setting batch_size=4.\n",
            "[Parallel(n_jobs=-1)]: Batch computation too fast (0.0410s.) Setting batch_size=8.\n",
            "[Parallel(n_jobs=-1)]: Done  34 tasks      | elapsed:    0.8s\n",
            "[Parallel(n_jobs=-1)]: Batch computation too fast (0.0697s.) Setting batch_size=16.\n",
            "[Parallel(n_jobs=-1)]: Batch computation too fast (0.1386s.) Setting batch_size=32.\n",
            "[Parallel(n_jobs=-1)]: Done 102 tasks      | elapsed:    1.1s\n",
            "[Parallel(n_jobs=-1)]: Done 358 tasks      | elapsed:    1.9s\n",
            "[Parallel(n_jobs=-1)]: Done 646 tasks      | elapsed:    2.9s\n",
            "[Parallel(n_jobs=-1)]: Done 998 tasks      | elapsed:    4.3s\n",
            "[Parallel(n_jobs=-1)]: Done 1350 tasks      | elapsed:    6.0s\n",
            "[Parallel(n_jobs=-1)]: Done 1766 tasks      | elapsed:    8.2s\n",
            "[Parallel(n_jobs=-1)]: Done 2182 tasks      | elapsed:   10.6s\n",
            "[Parallel(n_jobs=-1)]: Done 2662 tasks      | elapsed:   13.8s\n",
            "[Parallel(n_jobs=-1)]: Done 3142 tasks      | elapsed:   17.5s\n",
            "[Parallel(n_jobs=-1)]: Done 3686 tasks      | elapsed:   21.6s\n",
            "[Parallel(n_jobs=-1)]: Done 4230 tasks      | elapsed:   26.3s\n",
            "[Parallel(n_jobs=-1)]: Done 4838 tasks      | elapsed:   32.1s\n",
            "[Parallel(n_jobs=-1)]: Done 5446 tasks      | elapsed:   37.8s\n",
            "[Parallel(n_jobs=-1)]: Done 6118 tasks      | elapsed:   44.7s\n",
            "[Parallel(n_jobs=-1)]: Done 6790 tasks      | elapsed:   52.0s\n",
            "[Parallel(n_jobs=-1)]: Done 7526 tasks      | elapsed:   59.9s\n",
            "[Parallel(n_jobs=-1)]: Done 8262 tasks      | elapsed:  1.1min\n",
            "[Parallel(n_jobs=-1)]: Done 9062 tasks      | elapsed:  1.3min\n",
            "[Parallel(n_jobs=-1)]: Done 9862 tasks      | elapsed:  1.4min\n",
            "[Parallel(n_jobs=-1)]: Done 10726 tasks      | elapsed:  1.6min\n",
            "[Parallel(n_jobs=-1)]: Done 11590 tasks      | elapsed:  1.8min\n",
            "[Parallel(n_jobs=-1)]: Done 12518 tasks      | elapsed:  2.0min\n",
            "[Parallel(n_jobs=-1)]: Done 13446 tasks      | elapsed:  2.1min\n",
            "[Parallel(n_jobs=-1)]: Done 14438 tasks      | elapsed:  2.3min\n",
            "[Parallel(n_jobs=-1)]: Done 15430 tasks      | elapsed:  2.5min\n",
            "[Parallel(n_jobs=-1)]: Done 15976 tasks      | elapsed:  2.6min\n"
          ],
          "name": "stderr"
        },
        {
          "output_type": "stream",
          "text": [
            "\n",
            "\n",
            "ACCURACY:  0.425179211469534\n",
            "BEST PARAMS: {'max_depth': 14, 'min_samples_leaf': 4, 'min_samples_split': 2}\n"
          ],
          "name": "stdout"
        },
        {
          "output_type": "stream",
          "text": [
            "[Parallel(n_jobs=-1)]: Done 16000 out of 16000 | elapsed:  2.6min finished\n"
          ],
          "name": "stderr"
        }
      ]
    },
    {
      "cell_type": "markdown",
      "metadata": {
        "id": "yd4pRPrv9uSq",
        "colab_type": "text"
      },
      "source": [
        "Random Forest\n",
        "1. n_estimators - the number of trees in the forest\n",
        "2. max_depth - maximum tree depth\n",
        "3. min_samples_split - the minimum number of samples required to split an internal node\n",
        "4. min_samples_leaf - minimum number of samples required to be at a leaf node\n",
        "\n",
        "For tree ensembles tuning we went with genetic algorithm. It produced results similar to grid search but turned out to be significantly faster."
      ]
    },
    {
      "cell_type": "code",
      "metadata": {
        "id": "MSbnQVzp9y-3",
        "colab_type": "code",
        "outputId": "b17ea2c5-8736-4e99-e951-723bcafa8426",
        "colab": {
          "base_uri": "https://localhost:8080/",
          "height": 920
        }
      },
      "source": [
        "from genetuning import GeneTuning, Param\n",
        "\n",
        "brain = RandomForestClassifier()\n",
        "params = dict(max_depth=Param(2, 18, step=2), min_samples_split=Param(2, 4), min_samples_leaf=Param(1, 8), n_estimators=Param(100, 1500, step=200))\n",
        "\n",
        "gt = GeneTuning(RandomForestClassifier(), params, parents_num=4, children_num=4, population_size_init=20)\n",
        "gt.fit(X, y)\n",
        "print('\\n\\nACCURACY: ', gt.best_score)\n",
        "print('BEST PARAMS:', gt.best_params)"
      ],
      "execution_count": 9,
      "outputs": [
        {
          "output_type": "stream",
          "text": [
            "Generation  1 / 4 :\n",
            "Fitting model 1 / 20 :  {'max_depth': 2, 'min_samples_split': 3, 'min_samples_leaf': 2, 'n_estimators': 700}  : 0.31980286738351255\n",
            "Fitting model 2 / 20 :  {'max_depth': 10, 'min_samples_split': 2, 'min_samples_leaf': 6, 'n_estimators': 300}  : 0.432168458781362\n",
            "Fitting model 3 / 20 :  {'max_depth': 14, 'min_samples_split': 2, 'min_samples_leaf': 7, 'n_estimators': 900}  : 0.43405017921146954\n",
            "Fitting model 4 / 20 :  {'max_depth': 2, 'min_samples_split': 2, 'min_samples_leaf': 2, 'n_estimators': 1100}  : 0.31890681003584226\n",
            "Fitting model 5 / 20 :  {'max_depth': 2, 'min_samples_split': 2, 'min_samples_leaf': 4, 'n_estimators': 500}  : 0.32096774193548383\n",
            "Fitting model 6 / 20 :  {'max_depth': 8, 'min_samples_split': 2, 'min_samples_leaf': 1, 'n_estimators': 500}  : 0.4182795698924731\n",
            "Fitting model 7 / 20 :  {'max_depth': 10, 'min_samples_split': 3, 'min_samples_leaf': 7, 'n_estimators': 500}  : 0.4285842293906811\n",
            "Fitting model 8 / 20 :  {'max_depth': 12, 'min_samples_split': 3, 'min_samples_leaf': 3, 'n_estimators': 1300}  : 0.43396057347670247\n",
            "Fitting model 9 / 20 :  {'max_depth': 12, 'min_samples_split': 3, 'min_samples_leaf': 5, 'n_estimators': 300}  : 0.43324372759856633\n",
            "Fitting model 10 / 20 :  {'max_depth': 8, 'min_samples_split': 2, 'min_samples_leaf': 7, 'n_estimators': 500}  : 0.4186379928315412\n",
            "Fitting model 11 / 20 :  {'max_depth': 10, 'min_samples_split': 3, 'min_samples_leaf': 1, 'n_estimators': 1100}  : 0.4309139784946236\n",
            "Fitting model 12 / 20 :  {'max_depth': 12, 'min_samples_split': 2, 'min_samples_leaf': 3, 'n_estimators': 900}  : 0.4344982078853047\n",
            "Fitting model 13 / 20 :  {'max_depth': 16, 'min_samples_split': 3, 'min_samples_leaf': 6, 'n_estimators': 900}  : 0.4338709677419355\n",
            "Fitting model 14 / 20 :  {'max_depth': 10, 'min_samples_split': 2, 'min_samples_leaf': 7, 'n_estimators': 900}  : 0.428763440860215\n",
            "Fitting model 15 / 20 :  {'max_depth': 16, 'min_samples_split': 2, 'min_samples_leaf': 3, 'n_estimators': 100}  : 0.4264336917562724\n",
            "Fitting model 16 / 20 :  {'max_depth': 8, 'min_samples_split': 2, 'min_samples_leaf': 3, 'n_estimators': 500}  : 0.42060931899641574\n",
            "Fitting model 17 / 20 :  {'max_depth': 12, 'min_samples_split': 3, 'min_samples_leaf': 4, 'n_estimators': 100}  : 0.43288530465949815\n",
            "Fitting model 18 / 20 :  {'max_depth': 2, 'min_samples_split': 3, 'min_samples_leaf': 2, 'n_estimators': 300}  : 0.3202508960573477\n",
            "Fitting model 19 / 20 :  {'max_depth': 12, 'min_samples_split': 3, 'min_samples_leaf': 5, 'n_estimators': 700}  : 0.43405017921146954\n",
            "Fitting model 20 / 20 :  {'max_depth': 14, 'min_samples_split': 3, 'min_samples_leaf': 5, 'n_estimators': 300}  : 0.4351254480286738\n",
            "Generation  2 / 4 :\n",
            "Fitting model 1 / 8 :  {'max_depth': 14, 'min_samples_split': 3, 'min_samples_leaf': 3, 'n_estimators': 700}  : 0.4312724014336918\n",
            "Fitting model 2 / 8 :  {'max_depth': 12, 'min_samples_split': 2, 'min_samples_leaf': 7, 'n_estimators': 1100}  : 0.4330645161290323\n",
            "Fitting model 3 / 8 :  {'max_depth': 12, 'min_samples_split': 2, 'min_samples_leaf': 5, 'n_estimators': 700}  : 0.43530465949820785\n",
            "Fitting model 4 / 8 :  {'max_depth': 12, 'min_samples_split': 3, 'min_samples_leaf': 1, 'n_estimators': 300}  : 0.432258064516129\n",
            "Fitting model 5 / 8 :  {'max_depth': 14, 'min_samples_split': 3, 'min_samples_leaf': 5, 'n_estimators': 300}  : 0.4336917562724015\n",
            "Fitting model 6 / 8 :  {'max_depth': 12, 'min_samples_split': 2, 'min_samples_leaf': 3, 'n_estimators': 900}  : 0.4330645161290323\n",
            "Fitting model 7 / 8 :  {'max_depth': 14, 'min_samples_split': 2, 'min_samples_leaf': 7, 'n_estimators': 900}  : 0.4338709677419355\n",
            "Fitting model 8 / 8 :  {'max_depth': 12, 'min_samples_split': 3, 'min_samples_leaf': 5, 'n_estimators': 700}  : 0.4341397849462366\n",
            "Generation  3 / 4 :\n",
            "Fitting model 1 / 8 :  {'max_depth': 8, 'min_samples_split': 2, 'min_samples_leaf': 5, 'n_estimators': 700}  : 0.41998207885304656\n",
            "Fitting model 2 / 8 :  {'max_depth': 12, 'min_samples_split': 3, 'min_samples_leaf': 7, 'n_estimators': 900}  : 0.43485663082437276\n",
            "Fitting model 3 / 8 :  {'max_depth': 14, 'min_samples_split': 3, 'min_samples_leaf': 5, 'n_estimators': 300}  : 0.4330645161290323\n",
            "Fitting model 4 / 8 :  {'max_depth': 12, 'min_samples_split': 3, 'min_samples_leaf': 5, 'n_estimators': 700}  : 0.4336021505376344\n",
            "Fitting model 5 / 8 :  {'max_depth': 12, 'min_samples_split': 2, 'min_samples_leaf': 5, 'n_estimators': 700}  : 0.43324372759856633\n",
            "Fitting model 6 / 8 :  {'max_depth': 12, 'min_samples_split': 3, 'min_samples_leaf': 5, 'n_estimators': 700}  : 0.4344982078853047\n",
            "Fitting model 7 / 8 :  {'max_depth': 14, 'min_samples_split': 2, 'min_samples_leaf': 7, 'n_estimators': 900}  : 0.4342293906810036\n",
            "Fitting model 8 / 8 :  {'max_depth': 14, 'min_samples_split': 3, 'min_samples_leaf': 5, 'n_estimators': 300}  : 0.4336917562724015\n",
            "Generation  4 / 4 :\n",
            "Fitting model 1 / 8 :  {'max_depth': 2, 'min_samples_split': 3, 'min_samples_leaf': 5, 'n_estimators': 700}  : 0.3198924731182796\n",
            "Fitting model 2 / 8 :  {'max_depth': 12, 'min_samples_split': 3, 'min_samples_leaf': 2, 'n_estimators': 900}  : 0.4330645161290323\n",
            "Fitting model 3 / 8 :  {'max_depth': 14, 'min_samples_split': 2, 'min_samples_leaf': 5, 'n_estimators': 300}  : 0.43485663082437276\n",
            "Fitting model 4 / 8 :  {'max_depth': 14, 'min_samples_split': 2, 'min_samples_leaf': 7, 'n_estimators': 900}  : 0.4336917562724015\n",
            "Fitting model 5 / 8 :  {'max_depth': 12, 'min_samples_split': 3, 'min_samples_leaf': 7, 'n_estimators': 900}  : 0.4345878136200717\n",
            "Fitting model 6 / 8 :  {'max_depth': 12, 'min_samples_split': 3, 'min_samples_leaf': 5, 'n_estimators': 700}  : 0.432078853046595\n",
            "Fitting model 7 / 8 :  {'max_depth': 14, 'min_samples_split': 2, 'min_samples_leaf': 7, 'n_estimators': 900}  : 0.4349462365591398\n",
            "Fitting model 8 / 8 :  {'max_depth': 14, 'min_samples_split': 3, 'min_samples_leaf': 5, 'n_estimators': 300}  : 0.432258064516129\n",
            "\n",
            "\n",
            "ACCURACY:  0.43530465949820785\n",
            "BEST PARAMS: {'max_depth': 12, 'min_samples_split': 3, 'min_samples_leaf': 5, 'n_estimators': 700}\n"
          ],
          "name": "stdout"
        }
      ]
    },
    {
      "cell_type": "markdown",
      "metadata": {
        "id": "23JkanBXPWZN",
        "colab_type": "text"
      },
      "source": [
        "XG Boost\n",
        "1. n_estimators - the number of trees to fit\n",
        "2. max_depth - maximum tree depth\n",
        "3. min_child_weight - minimum sum of weights needed in child\n",
        "4. subsample - subsample ratio of the training instances (1 - train using all of the data, 0.5 - train using half of the data)\n",
        "5. colsample_bytree - subsample ratio of columns used when constructing new tree\n",
        "6. learning_rate - step size shrinkage used to prevent overfitting"
      ]
    },
    {
      "cell_type": "code",
      "metadata": {
        "id": "6d2RaMGoKkcP",
        "colab_type": "code",
        "colab": {
          "base_uri": "https://localhost:8080/",
          "height": 920
        },
        "outputId": "4194f078-e6ce-425a-d4d4-3b0bf330e0cd"
      },
      "source": [
        "from genetuning import GeneTuning, Param\n",
        "\n",
        "brain = RandomForestClassifier()\n",
        "params = dict(max_depth=Param(3, 8, step=2), \n",
        "              min_child_weight=Param(1, 8), \n",
        "              subsample=Param(0.5, 1, round_=2, is_integer=False), \n",
        "              colsample_bytree=Param(0.5, 1, round_=2, is_integer=False), \n",
        "              learning_rate=Param(0.01, 0.3, round_=3, is_integer=False),\n",
        "              n_estimators=Param(50, 400, step=50))\n",
        "\n",
        "gt = GeneTuning(xgb.XGBClassifier(objective='multi:softmax'), params, parents_num=4, children_num=4, population_size_init=20)\n",
        "gt.fit(X, y)\n",
        "print('\\n\\nACCURACY: ', gt.best_score)\n",
        "print('BEST PARAMS:', gt.best_params)"
      ],
      "execution_count": 10,
      "outputs": [
        {
          "output_type": "stream",
          "text": [
            "Generation  1 / 4 :\n",
            "Fitting model 1 / 20 :  {'max_depth': 7, 'min_child_weight': 6, 'subsample': 0.71, 'colsample_bytree': 0.71, 'learning_rate': 0.019, 'n_estimators': 300}  : 0.4360215053763441\n",
            "Fitting model 2 / 20 :  {'max_depth': 7, 'min_child_weight': 6, 'subsample': 0.54, 'colsample_bytree': 0.67, 'learning_rate': 0.135, 'n_estimators': 300}  : 0.4291218637992832\n",
            "Fitting model 3 / 20 :  {'max_depth': 3, 'min_child_weight': 2, 'subsample': 0.64, 'colsample_bytree': 0.52, 'learning_rate': 0.114, 'n_estimators': 100}  : 0.4195340501792115\n",
            "Fitting model 4 / 20 :  {'max_depth': 5, 'min_child_weight': 7, 'subsample': 0.66, 'colsample_bytree': 0.76, 'learning_rate': 0.01, 'n_estimators': 350}  : 0.4171146953405017\n",
            "Fitting model 5 / 20 :  {'max_depth': 5, 'min_child_weight': 4, 'subsample': 0.8, 'colsample_bytree': 0.62, 'learning_rate': 0.071, 'n_estimators': 200}  : 0.43915770609318994\n",
            "Fitting model 6 / 20 :  {'max_depth': 3, 'min_child_weight': 7, 'subsample': 0.63, 'colsample_bytree': 0.94, 'learning_rate': 0.254, 'n_estimators': 100}  : 0.4344982078853047\n",
            "Fitting model 7 / 20 :  {'max_depth': 3, 'min_child_weight': 7, 'subsample': 0.54, 'colsample_bytree': 0.52, 'learning_rate': 0.168, 'n_estimators': 200}  : 0.43369175627240136\n",
            "Fitting model 8 / 20 :  {'max_depth': 7, 'min_child_weight': 1, 'subsample': 0.67, 'colsample_bytree': 0.54, 'learning_rate': 0.276, 'n_estimators': 100}  : 0.42939068100358424\n",
            "Fitting model 9 / 20 :  {'max_depth': 3, 'min_child_weight': 4, 'subsample': 0.9, 'colsample_bytree': 0.58, 'learning_rate': 0.191, 'n_estimators': 50}  : 0.4126344086021505\n",
            "Fitting model 10 / 20 :  {'max_depth': 7, 'min_child_weight': 5, 'subsample': 0.91, 'colsample_bytree': 0.59, 'learning_rate': 0.215, 'n_estimators': 200}  : 0.42652329749103945\n",
            "Fitting model 11 / 20 :  {'max_depth': 7, 'min_child_weight': 4, 'subsample': 0.58, 'colsample_bytree': 0.67, 'learning_rate': 0.086, 'n_estimators': 100}  : 0.43611111111111106\n",
            "Fitting model 12 / 20 :  {'max_depth': 7, 'min_child_weight': 2, 'subsample': 0.62, 'colsample_bytree': 0.66, 'learning_rate': 0.244, 'n_estimators': 50}  : 0.4336021505376344\n",
            "Fitting model 13 / 20 :  {'max_depth': 3, 'min_child_weight': 5, 'subsample': 0.76, 'colsample_bytree': 0.62, 'learning_rate': 0.154, 'n_estimators': 350}  : 0.4384408602150538\n",
            "Fitting model 14 / 20 :  {'max_depth': 7, 'min_child_weight': 7, 'subsample': 0.78, 'colsample_bytree': 0.52, 'learning_rate': 0.201, 'n_estimators': 350}  : 0.42562724014336917\n",
            "Fitting model 15 / 20 :  {'max_depth': 7, 'min_child_weight': 7, 'subsample': 0.51, 'colsample_bytree': 0.71, 'learning_rate': 0.153, 'n_estimators': 350}  : 0.42983870967741933\n",
            "Fitting model 16 / 20 :  {'max_depth': 7, 'min_child_weight': 1, 'subsample': 0.83, 'colsample_bytree': 0.85, 'learning_rate': 0.143, 'n_estimators': 150}  : 0.4272401433691756\n",
            "Fitting model 17 / 20 :  {'max_depth': 5, 'min_child_weight': 7, 'subsample': 0.74, 'colsample_bytree': 0.91, 'learning_rate': 0.288, 'n_estimators': 200}  : 0.4306451612903225\n",
            "Fitting model 18 / 20 :  {'max_depth': 3, 'min_child_weight': 7, 'subsample': 0.51, 'colsample_bytree': 0.54, 'learning_rate': 0.259, 'n_estimators': 100}  : 0.4287634408602151\n",
            "Fitting model 19 / 20 :  {'max_depth': 5, 'min_child_weight': 6, 'subsample': 0.91, 'colsample_bytree': 0.93, 'learning_rate': 0.07, 'n_estimators': 300}  : 0.4405017921146953\n",
            "Fitting model 20 / 20 :  {'max_depth': 3, 'min_child_weight': 7, 'subsample': 0.85, 'colsample_bytree': 0.71, 'learning_rate': 0.264, 'n_estimators': 250}  : 0.439068100358423\n",
            "Generation  2 / 4 :\n",
            "Fitting model 1 / 8 :  {'max_depth': 5, 'min_child_weight': 6, 'subsample': 0.57, 'colsample_bytree': 0.62, 'learning_rate': 0.071, 'n_estimators': 200}  : 0.43879928315412187\n",
            "Fitting model 2 / 8 :  {'max_depth': 5, 'min_child_weight': 5, 'subsample': 0.8, 'colsample_bytree': 0.71, 'learning_rate': 0.264, 'n_estimators': 250}  : 0.4298387096774194\n",
            "Fitting model 3 / 8 :  {'max_depth': 3, 'min_child_weight': 7, 'subsample': 0.85, 'colsample_bytree': 0.62, 'learning_rate': 0.012, 'n_estimators': 350}  : 0.3991039426523298\n",
            "Fitting model 4 / 8 :  {'max_depth': 3, 'min_child_weight': 5, 'subsample': 0.71, 'colsample_bytree': 0.93, 'learning_rate': 0.07, 'n_estimators': 300}  : 0.43073476702508967\n",
            "Fitting model 5 / 8 :  {'max_depth': 5, 'min_child_weight': 6, 'subsample': 0.91, 'colsample_bytree': 0.93, 'learning_rate': 0.07, 'n_estimators': 300}  : 0.4405017921146953\n",
            "Fitting model 6 / 8 :  {'max_depth': 5, 'min_child_weight': 4, 'subsample': 0.8, 'colsample_bytree': 0.62, 'learning_rate': 0.071, 'n_estimators': 200}  : 0.43915770609318994\n",
            "Fitting model 7 / 8 :  {'max_depth': 3, 'min_child_weight': 7, 'subsample': 0.85, 'colsample_bytree': 0.71, 'learning_rate': 0.264, 'n_estimators': 250}  : 0.439068100358423\n",
            "Fitting model 8 / 8 :  {'max_depth': 3, 'min_child_weight': 5, 'subsample': 0.76, 'colsample_bytree': 0.62, 'learning_rate': 0.154, 'n_estimators': 350}  : 0.4384408602150538\n",
            "Generation  3 / 4 :\n",
            "Fitting model 1 / 8 :  {'max_depth': 5, 'min_child_weight': 6, 'subsample': 0.91, 'colsample_bytree': 0.62, 'learning_rate': 0.071, 'n_estimators': 100}  : 0.4306451612903226\n",
            "Fitting model 2 / 8 :  {'max_depth': 5, 'min_child_weight': 4, 'subsample': 0.88, 'colsample_bytree': 0.71, 'learning_rate': 0.264, 'n_estimators': 250}  : 0.42939068100358424\n",
            "Fitting model 3 / 8 :  {'max_depth': 3, 'min_child_weight': 7, 'subsample': 0.85, 'colsample_bytree': 0.62, 'learning_rate': 0.133, 'n_estimators': 200}  : 0.4294802867383513\n",
            "Fitting model 4 / 8 :  {'max_depth': 5, 'min_child_weight': 6, 'subsample': 0.85, 'colsample_bytree': 0.93, 'learning_rate': 0.07, 'n_estimators': 300}  : 0.43969534050179215\n",
            "Fitting model 5 / 8 :  {'max_depth': 5, 'min_child_weight': 6, 'subsample': 0.91, 'colsample_bytree': 0.93, 'learning_rate': 0.07, 'n_estimators': 300}  : 0.4405017921146953\n",
            "Fitting model 6 / 8 :  {'max_depth': 5, 'min_child_weight': 4, 'subsample': 0.8, 'colsample_bytree': 0.62, 'learning_rate': 0.071, 'n_estimators': 200}  : 0.43915770609318994\n",
            "Fitting model 7 / 8 :  {'max_depth': 3, 'min_child_weight': 7, 'subsample': 0.85, 'colsample_bytree': 0.71, 'learning_rate': 0.264, 'n_estimators': 250}  : 0.439068100358423\n",
            "Fitting model 8 / 8 :  {'max_depth': 5, 'min_child_weight': 6, 'subsample': 0.57, 'colsample_bytree': 0.62, 'learning_rate': 0.071, 'n_estimators': 200}  : 0.43879928315412187\n",
            "Generation  4 / 4 :\n",
            "Fitting model 1 / 8 :  {'max_depth': 5, 'min_child_weight': 6, 'subsample': 0.91, 'colsample_bytree': 0.93, 'learning_rate': 0.07, 'n_estimators': 100}  : 0.4291218637992831\n",
            "Fitting model 2 / 8 :  {'max_depth': 5, 'min_child_weight': 6, 'subsample': 0.84, 'colsample_bytree': 0.62, 'learning_rate': 0.071, 'n_estimators': 200}  : 0.4393369175627241\n",
            "Fitting model 3 / 8 :  {'max_depth': 5, 'min_child_weight': 4, 'subsample': 0.8, 'colsample_bytree': 0.71, 'learning_rate': 0.151, 'n_estimators': 250}  : 0.43315412186379926\n",
            "Fitting model 4 / 8 :  {'max_depth': 3, 'min_child_weight': 1, 'subsample': 0.85, 'colsample_bytree': 0.93, 'learning_rate': 0.07, 'n_estimators': 300}  : 0.432258064516129\n",
            "Fitting model 5 / 8 :  {'max_depth': 5, 'min_child_weight': 6, 'subsample': 0.91, 'colsample_bytree': 0.93, 'learning_rate': 0.07, 'n_estimators': 300}  : 0.4405017921146953\n",
            "Fitting model 6 / 8 :  {'max_depth': 5, 'min_child_weight': 6, 'subsample': 0.85, 'colsample_bytree': 0.93, 'learning_rate': 0.07, 'n_estimators': 300}  : 0.43969534050179215\n",
            "Fitting model 7 / 8 :  {'max_depth': 5, 'min_child_weight': 4, 'subsample': 0.8, 'colsample_bytree': 0.62, 'learning_rate': 0.071, 'n_estimators': 200}  : 0.43915770609318994\n",
            "Fitting model 8 / 8 :  {'max_depth': 3, 'min_child_weight': 7, 'subsample': 0.85, 'colsample_bytree': 0.71, 'learning_rate': 0.264, 'n_estimators': 250}  : 0.439068100358423\n",
            "\n",
            "\n",
            "ACCURACY:  0.4405017921146953\n",
            "BEST PARAMS: {'max_depth': 3, 'min_child_weight': 7, 'subsample': 0.85, 'colsample_bytree': 0.71, 'learning_rate': 0.264, 'n_estimators': 250}\n"
          ],
          "name": "stdout"
        }
      ]
    },
    {
      "cell_type": "markdown",
      "metadata": {
        "id": "Ul032jkpgxXU",
        "colab_type": "text"
      },
      "source": [
        "Now let's evaluate our tuned models and pick the best one:"
      ]
    },
    {
      "cell_type": "code",
      "metadata": {
        "id": "Od2pyZ6Wg8_q",
        "colab_type": "code",
        "colab": {
          "base_uri": "https://localhost:8080/",
          "height": 491
        },
        "outputId": "9926b976-ed1f-460c-a04f-1f71d3568277"
      },
      "source": [
        "legend = ['Logistic Regression', 'Support Vector Machine', 'Decision Tree', 'Random Forest', 'XG Boost']\n",
        "models = [LogisticRegression(C=10), \n",
        "          SVC(C=10, gamma=1, kernel='rbf'), \n",
        "          DecisionTreeClassifier(max_depth=14, min_samples_leaf=4, min_samples_split=2), \n",
        "          RandomForestClassifier(max_depth=12, min_samples_split=3, min_samples_leaf=5, n_estimators=700), \n",
        "          xgb.XGBClassifier(max_depth=3, min_child_weight=7, subsample=0.85, colsample_bytree=0.71, learning_rate=0.264, n_estimators=250)]\n",
        "times = []\n",
        "accuracies = []\n",
        "\n",
        "for model, name in zip(models, legend):\n",
        "    a, t = get_performance(model, X, y)\n",
        "    accuracies.append(a)\n",
        "    times.append(t)\n",
        "    print(name, ' - Accuracy: ', a, ' Time: ', t)\n",
        "\n",
        "plot_model_comparison(accuracies, times, legend)"
      ],
      "execution_count": 12,
      "outputs": [
        {
          "output_type": "stream",
          "text": [
            "Logistic Regression  - Accuracy:  0.392831541218638  Time:  2.7102038860321045\n",
            "Support Vector Machine  - Accuracy:  0.4218637992831541  Time:  35.01674151420593\n",
            "Decision Tree  - Accuracy:  0.425179211469534  Time:  0.08079409599304199\n",
            "Random Forest  - Accuracy:  0.4353942652329749  Time:  19.118155241012573\n",
            "XG Boost  - Accuracy:  0.439068100358423  Time:  18.07665514945984\n"
          ],
          "name": "stdout"
        },
        {
          "output_type": "display_data",
          "data": {
            "image/png": "[encoded data removed]",
            "text/plain": [
              "<Figure size 576x432 with 1 Axes>"
            ]
          },
          "metadata": {
            "tags": []
          }
        }
      ]
    },
    {
      "cell_type": "markdown",
      "metadata": {
        "id": "OCbnemltim3T",
        "colab_type": "text"
      },
      "source": [
        "The learning times for these algorithms and given amount of data are similar so we're going to make our choice based only on accuracy. And in that spirit, the best model for our task is XG Boost with parameters:\n",
        "1. max_depth=3\n",
        "2. min_child_weight=7\n",
        "3. subsample=0.85\n",
        "4. colsample_bytree=0.71\n",
        "5. learning_rate=0.264\n",
        "6. n_estimators=250\n",
        "\n",
        "It is around 2.2 times more accurate than just making random prediction every time."
      ]
    }
  ]
}