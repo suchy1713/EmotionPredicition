{
  "nbformat": 4,
  "nbformat_minor": 0,
  "metadata": {
    "colab": {
      "name": "Untitled2.ipynb",
      "provenance": [],
      "collapsed_sections": []
    },
    "kernelspec": {
      "name": "python3",
      "display_name": "Python 3"
    }
  },
  "cells": [
    {
      "cell_type": "markdown",
      "metadata": {
        "id": "4piSJ525vTuz",
        "colab_type": "text"
      },
      "source": [
        "Zapraszam do zabawy <br>\n",
        "<br>\n",
        "3 EXP – Wstępna eksploracja <br>\n",
        "6 EXP – Preprocessing <br>\n",
        "3 EXP – Przygotowanie podstawowych modeli<br>\n",
        "6 EXP – Dopracowanie parametrów modeli, ustalenie optymalnych parametrów<br>\n",
        "2 EXP – Porównanie modeli i wybór najlepszego<br>\n",
        "6 EXP – Opracowanie warstwy wyjaśniającej (explainability)<br>"
      ]
    }
  ]
}