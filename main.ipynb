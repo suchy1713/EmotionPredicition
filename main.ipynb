{
  "nbformat": 4,
  "nbformat_minor": 0,
  "metadata": {
    "colab": {
      "name": "main.ipynb",
      "provenance": [],
      "collapsed_sections": [],
      "include_colab_link": true
    },
    "kernelspec": {
      "name": "python3",
      "display_name": "Python 3"
    },
    "accelerator": "GPU"
  },
  "cells": [
    {
      "cell_type": "markdown",
      "metadata": {
        "id": "view-in-github",
        "colab_type": "text"
      },
      "source": [
        "<a href=\"https://colab.research.google.com/github/suchy1713/EmotionPredicition/blob/master/main.ipynb\" target=\"_parent\"><img src=\"https://colab.research.google.com/assets/colab-badge.svg\" alt=\"Open In Colab\"/></a>"
      ]
    },
    {
      "cell_type": "code",
      "metadata": {
        "id": "xveZpsF8Y8Aw",
        "colab_type": "code",
        "colab": {}
      },
      "source": [
        "import pandas as pd\n",
        "import numpy as np\n",
        "from sklearn.model_selection import train_test_split\n",
        "\n",
        "df = pd.read_csv('https://raw.githubusercontent.com/suchy1713/EmotionPredicition/master/data/preprocessed/data.csv')\n",
        "data = df.values\n",
        "X = data[:, :11]\n",
        "y = data[:, 11:].argmax(axis=1)"
      ],
      "execution_count": 0,
      "outputs": []
    },
    {
      "cell_type": "markdown",
      "metadata": {
        "id": "UeEyxa5TM2ew",
        "colab_type": "text"
      },
      "source": [
        "We are going to evaluate our models using cross validation. We considered using just training and test sets but it turned out that the dataset is not too big and CV is not taking too long. We will also measure learning time as it might help us with final choice of the best model.\n",
        "\n",
        "For hyperparameter tuning we decided to go with grid search to automatize this process just a little bit."
      ]
    },
    {
      "cell_type": "code",
      "metadata": {
        "id": "VMT8XySUkSei",
        "colab_type": "code",
        "colab": {}
      },
      "source": [
        "from sklearn.neural_network import MLPClassifier\n",
        "from sklearn.model_selection import GridSearchCV, cross_val_score\n",
        "import time\n",
        "import seaborn as sns\n",
        "import matplotlib.pyplot as plt\n",
        "\n",
        "def get_performance(model, X, y):\n",
        "    start = time.time()\n",
        "    score = np.mean(cross_val_score(model, X, y, cv=5))\n",
        "    end = time.time()\n",
        "\n",
        "    return score, end-start\n",
        "\n",
        "def find_best_params(model, X, y, params):\n",
        "    grid = GridSearchCV(estimator=model, param_grid=params, verbose=10, n_jobs=-1)\n",
        "    grid.fit(X, y)\n",
        "\n",
        "    print('\\n\\nACCURACY: ', grid.best_score_)\n",
        "    print('BEST PARAMS:', grid.best_params_)\n",
        "\n",
        "def plot_model_comparison(accuracies, times, legend):\n",
        "    plt.figure(figsize=(8,6))\n",
        "    sns.scatterplot(x=accuracies, y=times, hue=legend, s=150)\n",
        "\n",
        "    plt.title('Model performance comparison')\n",
        "    plt.xlabel('Accuracy')\n",
        "    plt.ylabel('Time')"
      ],
      "execution_count": 0,
      "outputs": []
    },
    {
      "cell_type": "markdown",
      "metadata": {
        "id": "mrS3Yz46Ohjx",
        "colab_type": "text"
      },
      "source": [
        "For our first pass, we chose the widest range of models we could possibly think of:<br>\n",
        "-> Logistic Regression<br>\n",
        "-> Naive Bayes (probability based)<br>\n",
        "-> Support Vector Classifier (distance based)<br>\n",
        "-> Decision Tree<br>\n",
        "-> Random Forest (tree ensemble)<br>\n",
        "-> XG Boost (tree ensemble)<br>\n",
        "-> Neural Network<br>"
      ]
    },
    {
      "cell_type": "code",
      "metadata": {
        "id": "j2Xm_JHCVawo",
        "colab_type": "code",
        "colab": {}
      },
      "source": [
        "from sklearn.linear_model import LogisticRegression\n",
        "from sklearn.naive_bayes import GaussianNB\n",
        "from sklearn.svm import SVC\n",
        "from sklearn.tree import DecisionTreeClassifier\n",
        "from sklearn.ensemble import RandomForestClassifier\n",
        "import xgboost as xgb\n",
        "from sklearn.neural_network import MLPClassifier"
      ],
      "execution_count": 0,
      "outputs": []
    },
    {
      "cell_type": "markdown",
      "metadata": {
        "id": "VnqGMAgjVePY",
        "colab_type": "text"
      },
      "source": [
        "Let's compare their default versions. This step should let us eliminate the ones that definitely are not going to perform well on this type of data."
      ]
    },
    {
      "cell_type": "code",
      "metadata": {
        "id": "_ZpOrbR9C3qV",
        "colab_type": "code",
        "outputId": "c9906813-463d-4cfc-84bf-b6fd669159b3",
        "colab": {
          "base_uri": "https://localhost:8080/",
          "height": 526
        }
      },
      "source": [
        "legend = ['Logistic Regression', 'Naive Bayes', 'Support Vector Machine', 'Decision Tree', 'Random Forest', 'XG Boost', 'Neural Network']\n",
        "models = [LogisticRegression(), GaussianNB(), SVC(), DecisionTreeClassifier(), RandomForestClassifier(), xgb.XGBClassifier(), MLPClassifier(max_iter=1000)]\n",
        "times = []\n",
        "accuracies = []\n",
        "\n",
        "for model, name in zip(models, legend):\n",
        "    a, t = get_performance(model, X, y)\n",
        "    accuracies.append(a)\n",
        "    times.append(t)\n",
        "    print(name, ' - Accuracy: ', a, ' Time: ', t)\n",
        "\n",
        "plot_model_comparison(accuracies, times, legend)"
      ],
      "execution_count": 0,
      "outputs": [
        {
          "output_type": "stream",
          "text": [
            "Logistic Regression  - Accuracy:  0.3925627240143369  Time:  2.585238218307495\n",
            "Naive Bayes  - Accuracy:  0.3492831541218638  Time:  0.0481564998626709\n",
            "Support Vector Machine  - Accuracy:  0.39874551971326166  Time:  27.475837230682373\n",
            "Decision Tree  - Accuracy:  0.4198028673835125  Time:  0.08410239219665527\n",
            "Random Forest  - Accuracy:  0.42034050179211474  Time:  3.1563358306884766\n",
            "XG Boost  - Accuracy:  0.4141577060931899  Time:  7.393480539321899\n",
            "Neural Network  - Accuracy:  0.4145161290322581  Time:  67.76044654846191\n"
          ],
          "name": "stdout"
        },
        {
          "output_type": "display_data",
          "data": {
            "image/png": "[encoded data removed]",
            "text/plain": [
              "<Figure size 576x432 with 1 Axes>"
            ]
          },
          "metadata": {
            "tags": []
          }
        }
      ]
    },
    {
      "cell_type": "markdown",
      "metadata": {
        "id": "TFMl3_1rQl08",
        "colab_type": "text"
      },
      "source": [
        "At this point we can rule out the Naive Bayes Classifier. Despite its great learning speed, it will never be able to compete with other models in terms of accuracy.\n",
        "\n",
        "Now onto hyperparameter tuning:"
      ]
    },
    {
      "cell_type": "markdown",
      "metadata": {
        "id": "c4Qe-NMxU4q8",
        "colab_type": "text"
      },
      "source": [
        "Logistic Regression:<br>\n",
        "C - inverse of regularization strength (smaller values specify stronger regularization)"
      ]
    },
    {
      "cell_type": "code",
      "metadata": {
        "id": "L8YardrXRT8Y",
        "colab_type": "code",
        "colab": {
          "base_uri": "https://localhost:8080/",
          "height": 243
        },
        "outputId": "1407c0ab-e7c6-4717-b7ca-f780f59d39b6"
      },
      "source": [
        "brain = LogisticRegression()\n",
        "c = np.array([0.0001, 0.001, 0.01, 0.1, 1, 10, 100, 1000])\n",
        "params = dict(C = c)\n",
        "\n",
        "find_best_params(brain, X, y, params)"
      ],
      "execution_count": 19,
      "outputs": [
        {
          "output_type": "stream",
          "text": [
            "Fitting 5 folds for each of 8 candidates, totalling 40 fits\n"
          ],
          "name": "stdout"
        },
        {
          "output_type": "stream",
          "text": [
            "[Parallel(n_jobs=-1)]: Using backend LokyBackend with 2 concurrent workers.\n",
            "[Parallel(n_jobs=-1)]: Done   1 tasks      | elapsed:    0.1s\n",
            "[Parallel(n_jobs=-1)]: Batch computation too fast (0.1250s.) Setting batch_size=2.\n",
            "[Parallel(n_jobs=-1)]: Done   4 tasks      | elapsed:    0.3s\n",
            "[Parallel(n_jobs=-1)]: Done  14 tasks      | elapsed:    1.4s\n",
            "[Parallel(n_jobs=-1)]: Done  24 tasks      | elapsed:    4.0s\n",
            "[Parallel(n_jobs=-1)]: Batch computation too slow (2.0160s.) Setting batch_size=1.\n",
            "[Parallel(n_jobs=-1)]: Done  40 out of  40 | elapsed:    8.4s finished\n"
          ],
          "name": "stderr"
        },
        {
          "output_type": "stream",
          "text": [
            "\n",
            "\n",
            "ACCURACY:  0.392831541218638\n",
            "BEST PARAMS: {'C': 10.0}\n"
          ],
          "name": "stdout"
        }
      ]
    },
    {
      "cell_type": "markdown",
      "metadata": {
        "id": "EcxPeJBzWqk1",
        "colab_type": "text"
      },
      "source": [
        "Support Vector Classifier:\n"
      ]
    }
  ]
}