{
  "nbformat": 4,
  "nbformat_minor": 0,
  "metadata": {
    "colab": {
      "name": "main.ipynb",
      "provenance": []
    },
    "kernelspec": {
      "name": "python3",
      "display_name": "Python 3"
    },
    "accelerator": "GPU"
  },
  "cells": [
    {
      "cell_type": "code",
      "metadata": {
        "id": "xveZpsF8Y8Aw",
        "colab_type": "code",
        "colab": {}
      },
      "source": [
        "import pandas as pd\n",
        "import numpy as np\n",
        "from sklearn.model_selection import train_test_split\n",
        "\n",
        "df = pd.read_csv('https://raw.githubusercontent.com/suchy1713/EmotionPredicition/master/data/preprocessed/data.csv')\n",
        "data = df.values\n",
        "X = data[:, :11]\n",
        "y = data[:, 11:].argmax(axis=1)"
      ],
      "execution_count": 0,
      "outputs": []
    },
    {
      "cell_type": "code",
      "metadata": {
        "id": "VMT8XySUkSei",
        "colab_type": "code",
        "colab": {}
      },
      "source": [
        "from sklearn.neural_network import MLPClassifier\n",
        "from sklearn.model_selection import GridSearchCV, cross_val_score\n",
        "import time\n",
        "\n",
        "def get_performance(model, X, y):\n",
        "    start = time.time()\n",
        "    score = np.mean(cross_val_score(model, X, y, cv=5))\n",
        "    end = time.time()\n",
        "\n",
        "    return score, end-start\n",
        "\n",
        "def find_best_params(model, X, y, params):\n",
        "    grid = GridSearchCV(estimator=model, param_grid=params, verbose=10, n_jobs=-1)\n",
        "    grid.fit(X, y)\n",
        "\n",
        "    return grid.best_params_, grid.best_score_"
      ],
      "execution_count": 0,
      "outputs": []
    },
    {
      "cell_type": "code",
      "metadata": {
        "id": "Vx950007K06V",
        "colab_type": "code",
        "colab": {
          "base_uri": "https://localhost:8080/",
          "height": 208
        },
        "outputId": "b93098b1-6316-43f3-efe8-da6d2fca9636"
      },
      "source": [
        "#to tylko przykład, wpisałem jakieś parametry z dupy\n",
        "brain = MLPClassifier(max_iter=1000)\n",
        "hl = np.array([(20), (20, 20)])\n",
        "lr = np.array([1e-2, 1e-3])\n",
        "a = np.array(['tanh', 'relu'])\n",
        "params = dict(hidden_layer_sizes=hl, learning_rate_init=lr, activation=a)\n",
        "\n",
        "print(find_best_params(brain, X, y, params))"
      ],
      "execution_count": 24,
      "outputs": [
        {
          "output_type": "stream",
          "text": [
            "Fitting 5 folds for each of 8 candidates, totalling 40 fits\n"
          ],
          "name": "stdout"
        },
        {
          "output_type": "stream",
          "text": [
            "[Parallel(n_jobs=-1)]: Using backend LokyBackend with 2 concurrent workers.\n",
            "[Parallel(n_jobs=-1)]: Done   1 tasks      | elapsed:    1.6s\n",
            "[Parallel(n_jobs=-1)]: Done   4 tasks      | elapsed:    7.5s\n",
            "[Parallel(n_jobs=-1)]: Done   9 tasks      | elapsed:   14.7s\n",
            "[Parallel(n_jobs=-1)]: Done  14 tasks      | elapsed:   40.7s\n",
            "[Parallel(n_jobs=-1)]: Done  21 tasks      | elapsed:  1.9min\n",
            "[Parallel(n_jobs=-1)]: Done  28 tasks      | elapsed:  2.4min\n",
            "[Parallel(n_jobs=-1)]: Done  37 tasks      | elapsed:  3.0min\n",
            "[Parallel(n_jobs=-1)]: Done  40 out of  40 | elapsed:  3.2min finished\n"
          ],
          "name": "stderr"
        },
        {
          "output_type": "stream",
          "text": [
            "({'activation': 'tanh', 'hidden_layer_sizes': (20, 20), 'learning_rate_init': 0.01}, 0.4135304659498208)\n"
          ],
          "name": "stdout"
        }
      ]
    },
    {
      "cell_type": "code",
      "metadata": {
        "id": "DG7_VApXMdjT",
        "colab_type": "code",
        "colab": {
          "base_uri": "https://localhost:8080/",
          "height": 34
        },
        "outputId": "2df4415f-67d0-449d-ed75-7b431b0f6252"
      },
      "source": [
        "best_brain = MLPClassifier(max_iter=1000, hidden_layer_sizes=(20, 20), learning_rate_init=0.01)\n",
        "print(get_performance(best_brain, X, y))"
      ],
      "execution_count": 25,
      "outputs": [
        {
          "output_type": "stream",
          "text": [
            "(0.4022401433691757, 17.37668800354004)\n"
          ],
          "name": "stdout"
        }
      ]
    }
  ]
}