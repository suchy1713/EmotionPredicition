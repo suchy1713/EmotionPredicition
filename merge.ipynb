{
  "nbformat": 4,
  "nbformat_minor": 0,
  "metadata": {
    "colab": {
      "name": "merge.ipynb",
      "provenance": [],
      "collapsed_sections": []
    },
    "kernelspec": {
      "name": "python3",
      "display_name": "Python 3"
    },
    "accelerator": "GPU"
  },
  "cells": [
    {
      "cell_type": "markdown",
      "metadata": {
        "id": "4piSJ525vTuz",
        "colab_type": "text"
      },
      "source": [
        "zapraszam do zabawy\n",
        "\n",
        "3 EXP – Wstępna eksploracja <br>\n",
        "6 EXP – Preprocessing <br>\n",
        "3 EXP – Przygotowanie podstawowych modeli<br>\n",
        "6 EXP – Dopracowanie parametrów modeli, ustalenie optymalnych parametrów<br>\n",
        "2 EXP – Porównanie modeli i wybór najlepszego<br>\n",
        "6 EXP – Opracowanie warstwy wyjaśniającej (explainability)<br>"
      ]
    },
    {
      "cell_type": "code",
      "metadata": {
        "id": "JiQKlL8bgCZ1",
        "colab_type": "code",
        "colab": {
          "base_uri": "https://localhost:8080/",
          "height": 729
        },
        "outputId": "ece9bccb-6e00-4f03-fef8-bae1dc624411"
      },
      "source": [
        "#PREPROCESSING AND INITIAL ANALYSIS\n",
        "\n",
        "import pandas as pd\n",
        "import numpy as np\n",
        "pd.set_option('display.max_columns', 500)\n",
        "\n",
        "#import metadata\n",
        "md = pd.read_csv(\"https://raw.githubusercontent.com/suchy1713/EmotionPredicition/master/data/metadata/BIRAFFE-metadata.csv\", sep=';')\n",
        "\n",
        "#drop subjects without 'procedure' files available\n",
        "md = md[pd.notnull(md['PROCEDURE'])]\n",
        "\n",
        "#extract ids and convert to the np array\n",
        "ids = md['ID'].values\n",
        "\n",
        "#merge all 'procedure' files\n",
        "#and combine with metadata\n",
        "all_proc = []\n",
        "for my_id in ids:\n",
        "    df = pd.read_csv(\"https://raw.githubusercontent.com/suchy1713/EmotionPredicition/master/data/SUB\" + str(my_id) + \"-Procedure.csv\", sep=';', header=0)\n",
        "    subject_data = md.loc[md['ID'] == my_id]\n",
        "    subject_data = subject_data.append([subject_data]*(df.shape[0]-1), ignore_index=True)\n",
        "    df = pd.concat([df, subject_data], axis=1, sort=False)\n",
        "    all_proc.append(df)\n",
        "\n",
        "#save everything as a new file\n",
        "#df = pd.concat(all_proc, axis=0, ignore_index=True)\n",
        "#df.to_csv('merged.csv', index=False)\n",
        "\n",
        "print(df.head())"
      ],
      "execution_count": 17,
      "outputs": [
        {
          "output_type": "stream",
          "text": [
            "      TIMESTAMP COND COND-DETAILS  IADS-ID  IAPS-ID WIDGET-TYPE  \\\n",
            "0  1.555651e+09  con         p0s0      373     9402   emospace1   \n",
            "1  1.555651e+09  con         p+s+      815     8370   emospace1   \n",
            "2  1.555651e+09  con         p-s-      241     3010   emospace1   \n",
            "3  1.555651e+09  con         p-s-      719     6821   emospace1   \n",
            "4  1.555651e+09  con         p0s0      723     9926   emospace1   \n",
            "\n",
            "                                         ANS  ANS-TIME    ID   AGE SEX  \\\n",
            "0  [-0.6613928222656247, 0.6419879150390628]  2.869846  1107  21.0   F   \n",
            "1     [0.66760498046875, 0.6348742675781248]  1.885436  1107  21.0   F   \n",
            "2                  [0.0, 0.9314099121093755]  2.569442  1107  21.0   F   \n",
            "3                 [-0.9068261718750004, 0.0]  2.719698  1107  21.0   F   \n",
            "4                                     [0, 0]       NaN  1107  21.0   F   \n",
            "\n",
            "   PROCEDURE-BEGIN-TIMESTAMP  PROCEDURE-END-TIMESTAMP  \\\n",
            "0               1.555651e+09             1.555655e+09   \n",
            "1               1.555651e+09             1.555655e+09   \n",
            "2               1.555651e+09             1.555655e+09   \n",
            "3               1.555651e+09             1.555655e+09   \n",
            "4               1.555651e+09             1.555655e+09   \n",
            "\n",
            "   BIOSIGS-BEGIN-TIMESTAMP  BIOSIGS-END-TIMESTAMP  OPENNESS  \\\n",
            "0             1.555651e+09           1.555655e+09       4.0   \n",
            "1             1.555651e+09           1.555655e+09       4.0   \n",
            "2             1.555651e+09           1.555655e+09       4.0   \n",
            "3             1.555651e+09           1.555655e+09       4.0   \n",
            "4             1.555651e+09           1.555655e+09       4.0   \n",
            "\n",
            "   CONSCIENTIOUSNESS  EXTRAVERSION  AGREEABLENESS  NEUROTICISM NEO-FFI  \\\n",
            "0                6.0          10.0            4.0          3.0       Y   \n",
            "1                6.0          10.0            4.0          3.0       Y   \n",
            "2                6.0          10.0            4.0          3.0       Y   \n",
            "3                6.0          10.0            4.0          3.0       Y   \n",
            "4                6.0          10.0            4.0          3.0       Y   \n",
            "\n",
            "  BIOSIGS PROCEDURE SPACE FREUD PHOTOS  \n",
            "0       Y         Y     Y     Y      Y  \n",
            "1       Y         Y     Y     Y      Y  \n",
            "2       Y         Y     Y     Y      Y  \n",
            "3       Y         Y     Y     Y      Y  \n",
            "4       Y         Y     Y     Y      Y  \n"
          ],
          "name": "stdout"
        }
      ]
    }
  ]
}
